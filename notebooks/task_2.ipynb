{
 "cells": [
  {
   "cell_type": "code",
   "execution_count": 1,
   "metadata": {},
   "outputs": [],
   "source": [
    "import pandas as pd"
   ]
  },
  {
   "cell_type": "code",
   "execution_count": 2,
   "metadata": {},
   "outputs": [
    {
     "name": "stdout",
     "output_type": "stream",
     "text": [
      "                Open      High       Low     Close  Adj Close     Volume  \\\n",
      "Date                                                                       \n",
      "1980-12-12  0.128348  0.128906  0.128348  0.128348   0.098943  469033600   \n",
      "1980-12-15  0.122210  0.122210  0.121652  0.121652   0.093781  175884800   \n",
      "1980-12-16  0.113281  0.113281  0.112723  0.112723   0.086898  105728000   \n",
      "1980-12-17  0.115513  0.116071  0.115513  0.115513   0.089049   86441600   \n",
      "1980-12-18  0.118862  0.119420  0.118862  0.118862   0.091630   73449600   \n",
      "\n",
      "            Dividends  Stock Splits  \n",
      "Date                                 \n",
      "1980-12-12        0.0           0.0  \n",
      "1980-12-15        0.0           0.0  \n",
      "1980-12-16        0.0           0.0  \n",
      "1980-12-17        0.0           0.0  \n",
      "1980-12-18        0.0           0.0  \n"
     ]
    }
   ],
   "source": [
    "df = pd.read_csv('..\\data\\AAPL_historical_data.csv') \n",
    "df['Date'] = pd.to_datetime(df['Date'])\n",
    "df.set_index('Date', inplace=True) \n",
    "print(df.head())"
   ]
  }
 ],
 "metadata": {
  "kernelspec": {
   "display_name": "myenv",
   "language": "python",
   "name": "python3"
  },
  "language_info": {
   "codemirror_mode": {
    "name": "ipython",
    "version": 3
   },
   "file_extension": ".py",
   "mimetype": "text/x-python",
   "name": "python",
   "nbconvert_exporter": "python",
   "pygments_lexer": "ipython3",
   "version": "3.11.9"
  }
 },
 "nbformat": 4,
 "nbformat_minor": 2
}
