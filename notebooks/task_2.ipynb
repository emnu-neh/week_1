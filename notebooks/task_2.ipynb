{
 "cells": [
  {
   "cell_type": "code",
   "execution_count": 3,
   "metadata": {},
   "outputs": [],
   "source": [
    "import pandas as pd\n",
    "import talib\n"
   ]
  },
  {
   "cell_type": "code",
   "execution_count": 2,
   "metadata": {},
   "outputs": [
    {
     "name": "stdout",
     "output_type": "stream",
     "text": [
      "                Open      High       Low     Close  Adj Close     Volume  \\\n",
      "Date                                                                       \n",
      "1980-12-12  0.128348  0.128906  0.128348  0.128348   0.098943  469033600   \n",
      "1980-12-15  0.122210  0.122210  0.121652  0.121652   0.093781  175884800   \n",
      "1980-12-16  0.113281  0.113281  0.112723  0.112723   0.086898  105728000   \n",
      "1980-12-17  0.115513  0.116071  0.115513  0.115513   0.089049   86441600   \n",
      "1980-12-18  0.118862  0.119420  0.118862  0.118862   0.091630   73449600   \n",
      "\n",
      "            Dividends  Stock Splits  \n",
      "Date                                 \n",
      "1980-12-12        0.0           0.0  \n",
      "1980-12-15        0.0           0.0  \n",
      "1980-12-16        0.0           0.0  \n",
      "1980-12-17        0.0           0.0  \n",
      "1980-12-18        0.0           0.0  \n"
     ]
    }
   ],
   "source": [
    "df = pd.read_csv('..\\data\\AAPL_historical_data.csv') \n",
    "df['Date'] = pd.to_datetime(df['Date'])\n",
    "df.set_index('Date', inplace=True) \n",
    "print(df.head())"
   ]
  },
  {
   "cell_type": "code",
   "execution_count": 4,
   "metadata": {},
   "outputs": [
    {
     "name": "stdout",
     "output_type": "stream",
     "text": [
      "                SMA_20      SMA_50        RSI      MACD  MACD_Signal  \\\n",
      "Date                                                                   \n",
      "2024-07-24  224.228500  208.474199  48.687742  4.662717     6.678882   \n",
      "2024-07-25  224.440500  209.098399  47.386437  3.748082     6.092722   \n",
      "2024-07-26  224.633500  209.709000  48.055700  3.026267     5.479431   \n",
      "2024-07-29  225.014500  210.279400  48.476184  2.448591     4.873263   \n",
      "2024-07-30  225.117001  210.858600  49.359115  2.012764     4.301163   \n",
      "\n",
      "            MACD_Hist  \n",
      "Date                   \n",
      "2024-07-24  -2.016164  \n",
      "2024-07-25  -2.344640  \n",
      "2024-07-26  -2.453164  \n",
      "2024-07-29  -2.424672  \n",
      "2024-07-30  -2.288399  \n"
     ]
    }
   ],
   "source": [
    "# Calculate Moving Averages\n",
    "df['SMA_20'] = talib.SMA(df['Close'], timeperiod=20)\n",
    "df['SMA_50'] = talib.SMA(df['Close'], timeperiod=50)\n",
    "\n",
    "# Calculate RSI (Relative Strength Index)\n",
    "df['RSI'] = talib.RSI(df['Close'], timeperiod=14)\n",
    "\n",
    "# Calculate MACD (Moving Average Convergence Divergence)\n",
    "df['MACD'], df['MACD_Signal'], df['MACD_Hist'] = talib.MACD(df['Close'], \n",
    "                                                             fastperiod=12, \n",
    "                                                             slowperiod=26, \n",
    "                                                             signalperiod=9)\n",
    "\n",
    "print(df[['SMA_20', 'SMA_50', 'RSI', 'MACD', 'MACD_Signal', 'MACD_Hist']].tail())\n"
   ]
  }
 ],
 "metadata": {
  "kernelspec": {
   "display_name": "myenv",
   "language": "python",
   "name": "python3"
  },
  "language_info": {
   "codemirror_mode": {
    "name": "ipython",
    "version": 3
   },
   "file_extension": ".py",
   "mimetype": "text/x-python",
   "name": "python",
   "nbconvert_exporter": "python",
   "pygments_lexer": "ipython3",
   "version": "3.11.9"
  }
 },
 "nbformat": 4,
 "nbformat_minor": 2
}
